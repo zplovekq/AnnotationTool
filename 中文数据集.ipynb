{
 "cells": [
  {
   "cell_type": "code",
   "execution_count": 1,
   "metadata": {},
   "outputs": [],
   "source": [
    "f=open(\"source_BIO_2014_cropus.txt\",encoding=\"utf-8\")\n",
    "# print(f.readline())\n",
    "\n",
    "f1 = f.readlines()\n",
    "f.close()\n",
    "f=open(\"target_BIO_2014_cropus.txt\",encoding=\"utf-8\")\n",
    "f2=f.readlines()\n",
    "f.close()"
   ]
  },
  {
   "cell_type": "code",
   "execution_count": 4,
   "outputs": [
    {
     "data": {
      "text/plain": "'O O O B-T I-T I-T I-T O O O B-LOC I-LOC O O O O O O B-LOC I-LOC I-LOC I-LOC I-LOC O O O B-T I-T I-T I-T I-T O O O O O O O O O O O O O O O O O O O O O O O O O O O O O O O O O O O O O O O\\n'"
     },
     "execution_count": 4,
     "metadata": {},
     "output_type": "execute_result"
    }
   ],
   "source": [
    "f2[0].replace(\"_\",\"-\")"
   ],
   "metadata": {
    "collapsed": false,
    "pycharm": {
     "name": "#%%\n"
    }
   }
  },
  {
   "cell_type": "code",
   "execution_count": 5,
   "metadata": {},
   "outputs": [],
   "source": [
    "f=open(\"china.bio\",\"w\",encoding=\"utf-8\")\n",
    "for a,b in zip(f1,f2):\n",
    "    t1 =str(a).strip().split(\" \")\n",
    "    t2 =str(b).replace(\"_\",\"-\").strip().split(\" \")\n",
    "    for c,d in zip(t1,t2):\n",
    "        f.write(c+\" \"+d+\"\\n\")"
   ]
  },
  {
   "cell_type": "code",
   "execution_count": 13,
   "metadata": {},
   "outputs": [
    {
     "data": {
      "text/plain": [
       "True"
      ]
     },
     "execution_count": 13,
     "metadata": {},
     "output_type": "execute_result"
    }
   ],
   "source": []
  },
  {
   "cell_type": "code",
   "execution_count": 14,
   "metadata": {},
   "outputs": [],
   "source": [
    "with open(\"china.bio\",\"w\",encoding=\"utf-8\") as f:\n",
    "    for a,b in zip(l1,l2):\n",
    "        f.write(a+\" \"+b+\"\\n\")\n"
   ]
  }
 ],
 "metadata": {
  "kernelspec": {
   "display_name": "PyCharm (AlpacaTag-master)",
   "language": "python",
   "name": "pycharm-a3c0855b"
  },
  "language_info": {
   "codemirror_mode": {
    "name": "ipython",
    "version": 3
   },
   "file_extension": ".py",
   "mimetype": "text/x-python",
   "name": "python",
   "nbconvert_exporter": "python",
   "pygments_lexer": "ipython3",
   "version": "3.6.5"
  },
  "varInspector": {
   "cols": {
    "lenName": 16,
    "lenType": 16,
    "lenVar": 40
   },
   "kernels_config": {
    "python": {
     "delete_cmd_postfix": "",
     "delete_cmd_prefix": "del ",
     "library": "var_list.py",
     "varRefreshCmd": "print(var_dic_list())"
    },
    "r": {
     "delete_cmd_postfix": ") ",
     "delete_cmd_prefix": "rm(",
     "library": "var_list.r",
     "varRefreshCmd": "cat(var_dic_list()) "
    }
   },
   "types_to_exclude": [
    "module",
    "function",
    "builtin_function_or_method",
    "instance",
    "_Feature"
   ],
   "window_display": false
  }
 },
 "nbformat": 4,
 "nbformat_minor": 4
}